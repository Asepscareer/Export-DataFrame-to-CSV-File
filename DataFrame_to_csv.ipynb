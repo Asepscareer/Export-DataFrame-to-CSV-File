{
 "cells": [
  {
   "cell_type": "markdown",
   "metadata": {},
   "source": [
    "# Export Data Frame to csv file"
   ]
  },
  {
   "cell_type": "markdown",
   "metadata": {},
   "source": [
    "![csv](CSV_logo.png)"
   ]
  },
  {
   "cell_type": "markdown",
   "metadata": {},
   "source": [
    "#### Import Module"
   ]
  },
  {
   "cell_type": "code",
   "execution_count": 29,
   "metadata": {},
   "outputs": [],
   "source": [
    "import pandas as pd"
   ]
  },
  {
   "cell_type": "markdown",
   "metadata": {},
   "source": [
    "#### Create Data Frame"
   ]
  },
  {
   "cell_type": "code",
   "execution_count": 30,
   "metadata": {},
   "outputs": [],
   "source": [
    "warung = {'Rokok':['Gudang Garam Filter', 'Djarum Super','Sampoerna Mild',\n",
    "                  'Sampoerna Kretek','Dji Sam Soe','Gudang Garam Merah','Umild'],\n",
    "          'Harga' :[18000,17500,25000,14000,16000,11000,14000]}\n",
    "punya_asep = pd.DataFrame(warung, columns=['Rokok','Harga'])\n"
   ]
  },
  {
   "cell_type": "markdown",
   "metadata": {},
   "source": [
    "#### Print to see"
   ]
  },
  {
   "cell_type": "code",
   "execution_count": 36,
   "metadata": {},
   "outputs": [
    {
     "name": "stdout",
     "output_type": "stream",
     "text": [
      "                 Rokok  Harga\n",
      "0  Gudang Garam Filter  18000\n",
      "1         Djarum Super  17500\n",
      "2       Sampoerna Mild  25000\n",
      "3     Sampoerna Kretek  14000\n",
      "4          Dji Sam Soe  16000\n",
      "5   Gudang Garam Merah  11000\n",
      "6                Umild  14000\n"
     ]
    }
   ],
   "source": [
    "print(punya_asep)"
   ]
  },
  {
   "cell_type": "markdown",
   "metadata": {},
   "source": [
    "#### Convert to CSV File"
   ]
  },
  {
   "cell_type": "code",
   "execution_count": 37,
   "metadata": {},
   "outputs": [],
   "source": [
    "punya_asep.to_csv (r'Warung_asep.csv', index = False, header=True)"
   ]
  }
 ],
 "metadata": {
  "kernelspec": {
   "display_name": "Python 3",
   "language": "python",
   "name": "python3"
  },
  "language_info": {
   "codemirror_mode": {
    "name": "ipython",
    "version": 3
   },
   "file_extension": ".py",
   "mimetype": "text/x-python",
   "name": "python",
   "nbconvert_exporter": "python",
   "pygments_lexer": "ipython3",
   "version": "3.8.3"
  }
 },
 "nbformat": 4,
 "nbformat_minor": 4
}
